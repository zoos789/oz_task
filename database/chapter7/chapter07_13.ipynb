{
 "cells": [
  {
   "cell_type": "markdown",
   "metadata": {},
   "source": [
    "[문제10]\n",
    "\n",
    "데이터 제어 언어(DCL)인 GRANT에 대한 설명으로 옳은 것을 골라주세요\n",
    "\n",
    "- 사용자에게 특정 작업을 수행할 권한을 부여한다.\n",
    "- 사용자로부터 특정 작업 수행 권항을 제거한다.\n",
    "- 다른 사용자에게 동일한 권한을 전달할때 사용한다.\n",
    "- 부여된 권한 중 일부를 제한할때 사용한다."
   ]
  },
  {
   "cell_type": "markdown",
   "metadata": {},
   "source": [
    "정답 :사용자에게 특정 작업을 수행할 권한을 부여한다\n"
   ]
  },
  {
   "cell_type": "markdown",
   "metadata": {},
   "source": [
    "[문제11]\n",
    "\n",
    "테이블을 생성하기 위해서 사용되는 sql문을 선택해주세요\n",
    "\n",
    "- CREATE TABLE\n",
    "- CREATE NEW TABLE\n",
    "- ADD TABLE\n",
    "- UPDATE TABLE"
   ]
  },
  {
   "cell_type": "markdown",
   "metadata": {},
   "source": [
    "정답 :CREATE TABLE"
   ]
  },
  {
   "cell_type": "markdown",
   "metadata": {},
   "source": [
    "[문제12]\n",
    "\n",
    "테이블 생성 시 컬럼(속성)에 값이 항상 존재하도록 설정하는 명령어를 선택해주세요\n",
    "\n",
    "- IS NULL\n",
    "- NOT NULL\n",
    "- IN NULL\n",
    "- NULL"
   ]
  },
  {
   "cell_type": "markdown",
   "metadata": {},
   "source": [
    "정답 : NOT NULL"
   ]
  },
  {
   "cell_type": "markdown",
   "metadata": {},
   "source": [
    "[문제13]\n",
    "\n",
    "테이블 생성 시 컬럼(속성)에 중복된 값을 허용하지 않도록 설정하는 명령어를 모두 선택해주세요\n",
    "\n",
    "- UNIQUE\n",
    "- DEFAULT False\n",
    "- PRIMARY KEY\n",
    "- AUTO_INCREMENT"
   ]
  },
  {
   "cell_type": "markdown",
   "metadata": {},
   "source": [
    "정답 :UNIQUE, PRIMARY KEY\n",
    "\n",
    "UNIQUE - 컬럼의 값이 중복 불가능하게 해줌, 하나의 테이블에 여러개의 unique제약 가능\n",
    "PRIMARY KEY - 테이블의 고유 식별자 역할, 테이블에 오직 1개만 존재가능 자동으로 NOT NULL+UNIQUE 제약이 걸림"
   ]
  },
  {
   "cell_type": "markdown",
   "metadata": {},
   "source": [
    "[문제14]\n",
    "\n",
    "데이터베이스의 숫자형 데이터 타입이 아닌것을 선택해주세요\n",
    "\n",
    "- BIT\n",
    "- INT\n",
    "- CHAR\n",
    "- BIGINT"
   ]
  },
  {
   "cell_type": "markdown",
   "metadata": {},
   "source": [
    "정답 :CHAR(고정 길이 문자열 저장)\n",
    "\n",
    "BIT-0,1로 구성된 이진값, bit(m)이라면 m은 1~64의 값\n",
    "INT-4바이트 정수\n",
    "BIGINT-8바이트 정수"
   ]
  },
  {
   "cell_type": "markdown",
   "metadata": {},
   "source": [
    "[문제15]\n",
    "\n",
    "날짜와 시간을 같이 나타내는 데이터 타입을 선택해주세요\n",
    "\n",
    "- DATE\n",
    "- TIME\n",
    "- DATETIME"
   ]
  },
  {
   "cell_type": "markdown",
   "metadata": {},
   "source": [
    "정답 : DATETIME\n",
    "\n",
    "DATETIME- 시간 설정이 무한대\n",
    "비슷한 TIMESTAMP(1970-01-01~2037-01-19)가 있음, 보편적으로 TIMESTAMP를 사용하면 서버의 시간대 설정에 따라 변환되게 사용함\n",
    "국제화된 애플리케이션에선 시간대 변환이 중요해서 timestamp가 유리\n",
    "시간대가 무관하고 더 넓은 범위를 커버하고싶으면 datetime"
   ]
  },
  {
   "cell_type": "markdown",
   "metadata": {},
   "source": [
    "[문제16]\n",
    "\n",
    "CHAR과 VARCHAR의 차이로 옳은 것을 선택해 주세요\n",
    "\n",
    "- 저장할 수 있는 데이터 종류(문자, 숫자)가 다름\n",
    "- 데이터를 담을 수 있는 공간이 고정인지 가변인지의 차이\n",
    "- 문자열 값을 정수로 표현할 수 있는지의 차이\n",
    "- 한번 입력된 데이터의 수정 여부의 차이"
   ]
  },
  {
   "cell_type": "markdown",
   "metadata": {},
   "source": [
    "정답 : 데이터를 담을 수 있는 공간이 고정인지 가변인지의 차이\n",
    "\n",
    "CHAR - 고정 길이 문자열 저장 / VARCHAR -가변 길이 문자열저장 (보통은 VARCHAR을 자주 사용함)\n",
    "둘다 문자열에 대한 글자수를 제한하지만 varchar는 글자수가 가변적이고 공백에대한 최적화가 자동으로되고, char는 글자수가 고정되지만 공백에대한 최적화가 필요없어 속도가 좀더빠름\n",
    "ex) char (5)- nnnnn  (5자리 고정)\n",
    "    varchar(5)-n     (나머지 4자리는 최적화, 5자리까지 적어도 무방)"
   ]
  },
  {
   "cell_type": "markdown",
   "metadata": {},
   "source": [
    "[문제17]\n",
    "\n",
    "데이터베이스 내의 트랜잭션을 관리하는데 사용되는 언어를 선택해주세요\n",
    "\n",
    "- DCL\n",
    "- DML\n",
    "- TCL\n",
    "- DDL"
   ]
  },
  {
   "cell_type": "markdown",
   "metadata": {},
   "source": [
    "정답 :TCL(Transaction Control Language)"
   ]
  },
  {
   "cell_type": "markdown",
   "metadata": {},
   "source": [
    "[문제18]\n",
    "\n",
    "칼럼에 저장될 수 있는 값의 범위나 조건을 지정하는 명령어를 선택해주세요\n",
    "\n",
    "- IN\n",
    "- WHERE\n",
    "- CHECK\n",
    "- ON"
   ]
  },
  {
   "cell_type": "markdown",
   "metadata": {},
   "source": [
    "정답 :CHECK"
   ]
  }
 ],
 "metadata": {
  "language_info": {
   "name": "python"
  }
 },
 "nbformat": 4,
 "nbformat_minor": 2
}
