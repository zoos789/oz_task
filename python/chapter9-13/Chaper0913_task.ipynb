{
 "cells": [
  {
   "cell_type": "markdown",
   "metadata": {
    "id": "fD4Qab2qYgOm"
   },
   "source": [
    "안녕하세요. 수강생 여러분~! Chapter09 ~ 13 수업은 잘 들으셨나요?\n",
    "\n",
    "Chapter09 ~ 13의 수업 내용을 바탕으로 아래 문제를 풀어주시면 됩니다.\n",
    "\n",
    "\n",
    "<br>\n",
    "\n",
    "\n",
    "[**답변 입력 방법**]\n",
    "\n",
    "문제 아래에 있는 코드 입력창에 정답코드를 작성하신 후  __▷ 버튼을 클릭해 코드를 실행__ 해보세요<br>"
   ]
  },
  {
   "cell_type": "markdown",
   "metadata": {},
   "source": [
    "---"
   ]
  },
  {
   "cell_type": "markdown",
   "metadata": {},
   "source": [
    "__[문제0]__\n",
    "\n",
    "\n",
    "오즈 코딩 스쿨 백엔드 8기 과정에 참여한 수강생 중 3명의 수강생이 자율적으로 스터디 그룹을 결성했습니다.\n",
    "\n",
    "스터디 그룹 내에는 한 주간 배운 내용으로 매주 쪽지 시험을 보는 룰이 있습니다. 점수는 채점자 마음입니다.\n",
    "\n",
    "쪽지 시험의 점수를 직접 입력받고, 점수의 합을 출력해주세요!\n",
    "\n",
    "\n",
    "<br>\n",
    "\n"
   ]
  },
  {
   "cell_type": "code",
   "execution_count": 5,
   "metadata": {},
   "outputs": [
    {
     "name": "stdout",
     "output_type": "stream",
     "text": [
      "A_student의 점수는 80점, B_student의 점수는 70점, C_student의 점수는 60점, 세 학생의 총 점은 210입니다.\n"
     ]
    }
   ],
   "source": [
    "ozback8_list= [\"A_student\", \"B_student\", \"C_student\"]\n",
    "\n",
    "A_student = 80\n",
    "B_student = 70\n",
    "C_student = 60\n",
    "\n",
    "total_pt = A_student+B_student+C_student\n",
    "\n",
    "print(f'{ozback8_list[0]}의 점수는 {A_student}점, {ozback8_list[1]}의 점수는 {B_student}점, {ozback8_list[2]}의 점수는 {C_student}점, 세 학생의 총 점은 {total_pt}입니다.')"
   ]
  },
  {
   "cell_type": "markdown",
   "metadata": {
    "id": "swqdcIl8Yn-c"
   },
   "source": [
    "__[문제1]<br>__\n",
    "\n",
    "movie_rank 리스트에는 아래와 같이 네 개의 영화 제목이 바인딩되어 있다. \n",
    "\n",
    "\"비밀\"을 \"나폴레옹\"과 \"괴물\" 사이에 추가해주세요\n",
    "\n",
    "<br>\n",
    "\n",
    "```\n",
    "movie = ['서울의 봄', '나폴레옹', '괴물', '베트맨']\n",
    "```\n",
    "\n"
   ]
  },
  {
   "cell_type": "code",
   "execution_count": 51,
   "metadata": {
    "id": "vjUhNFdBYo2n"
   },
   "outputs": [
    {
     "name": "stdout",
     "output_type": "stream",
     "text": [
      "['서울의 봄', '나폴레옹', '비밀', '괴물', '베트맨']\n"
     ]
    }
   ],
   "source": [
    "movie_list = ['서울의 봄', '나폴레옹', '괴물', '베트맨']\n",
    "movie_list.insert(2, '비밀')\n",
    "print(movie_list)"
   ]
  },
  {
   "cell_type": "markdown",
   "metadata": {},
   "source": [
    "---"
   ]
  },
  {
   "cell_type": "markdown",
   "metadata": {
    "id": "KZBNuM5MYpZR"
   },
   "source": [
    "__[문제1-2]<br>__\n",
    "\n",
    "movie_rank 리스트에서 '베트맨'를 삭제해주세요\n",
    "\n",
    "<br>\n",
    "\n",
    "```\n",
    "movie = ['서울의 봄', '나폴레옹', '비밀', '괴물', '베트맨']\n",
    "```\n",
    "\n"
   ]
  },
  {
   "cell_type": "code",
   "execution_count": 13,
   "metadata": {
    "id": "cPezrT7cYreh"
   },
   "outputs": [
    {
     "name": "stdout",
     "output_type": "stream",
     "text": [
      "['서울의 봄', '나폴레옹', '비밀', '괴물']\n"
     ]
    }
   ],
   "source": [
    "movie_list = ['서울의 봄', '나폴레옹', '비밀', '괴물', '베트맨']\n",
    "movie_list.remove('베트맨')\n",
    "print(movie_list)"
   ]
  },
  {
   "cell_type": "markdown",
   "metadata": {
    "id": "i8EJYPY0YsAe"
   },
   "source": [
    "__[문제2]<br>__\n",
    "\n",
    "[언어1]과 [언어2] 리스트가 있을 때 언어1과 언어2의 원소를 모두 갖고 있는 [언어모음]이라는 list를 만들어주세요\n",
    "\n",
    "```lang1 = [\"C\", \"C++\", \"JAVA\"]```<br>\n",
    "```lang2 = [\"Python\", \"Go\", \"C#\"]```  \n",
    "\n",
    "<br>\n",
    "실행 예)\n",
    "언어들\n",
    "['C', 'C++', 'JAVA', 'Python', 'Go', 'C#']"
   ]
  },
  {
   "cell_type": "code",
   "execution_count": 15,
   "metadata": {},
   "outputs": [
    {
     "name": "stdout",
     "output_type": "stream",
     "text": [
      "['c', 'c++', 'JAVA', 'Python', 'Go', 'C#']\n"
     ]
    }
   ],
   "source": [
    "collect_lang = [\"c\", \"c++\", \"JAVA\", \"Python\",\"Go\", \"C#\"] \n",
    "print(collect_lang)"
   ]
  },
  {
   "cell_type": "markdown",
   "metadata": {},
   "source": [
    "---"
   ]
  },
  {
   "cell_type": "markdown",
   "metadata": {
    "id": "5VFysaYRwT69"
   },
   "source": [
    "__[문제3]<br>__\n",
    "\n",
    "다음 리스트에서 최댓값과 최솟값, 그리고 평균을 출력해주세요.\n",
    "<br>\n",
    "\n",
    "```\n",
    "nums = [1, 2, 3, 4, 5, 6, 7, 9, 10]\n",
    "```\n",
    "\n"
   ]
  },
  {
   "cell_type": "code",
   "execution_count": 26,
   "metadata": {},
   "outputs": [
    {
     "name": "stdout",
     "output_type": "stream",
     "text": [
      "해당목록 중 최댓값은 10, 최솟값은 1, 평균값은 5.22\n"
     ]
    }
   ],
   "source": [
    "nums = [1, 2, 3, 4, 5, 6, 7, 9, 10]\n",
    "print(f'해당목록 중 최댓값은 {nums[8]}, 최솟값은 {nums[0]}, 평균값은 {round(sum(nums)/len(nums),2)}')"
   ]
  },
  {
   "cell_type": "markdown",
   "metadata": {},
   "source": [
    "---"
   ]
  },
  {
   "cell_type": "markdown",
   "metadata": {
    "id": "5_IA50IQE2AM"
   },
   "source": [
    "__[문제4]__\n",
    "\n",
    "다음 리스트에 저장된 데이터의 개수를 화면에 구해주세요\n",
    "\n",
    "```cook = [\"피자\", \"김밥\", \"만두\", \"양념치킨\", \"족발\", \"피자\", \"김치만두\", \"쫄면\"]```"
   ]
  },
  {
   "cell_type": "code",
   "execution_count": 31,
   "metadata": {
    "id": "iRDvWnF8wTXa"
   },
   "outputs": [
    {
     "name": "stdout",
     "output_type": "stream",
     "text": [
      "리스트에 저장된 데이터의 갯수는 8개 입니다.\n"
     ]
    }
   ],
   "source": [
    "cook = [\"피자\", \"김밥\", \"만두\", \"양념치킨\", \"족발\", \"피자\", \"김치만두\", \"쫄면\"]\n",
    "print(f'리스트에 저장된 데이터의 갯수는 {len(cook)}개 입니다.')"
   ]
  },
  {
   "cell_type": "markdown",
   "metadata": {},
   "source": [
    "---"
   ]
  },
  {
   "cell_type": "markdown",
   "metadata": {},
   "source": [
    "---"
   ]
  },
  {
   "cell_type": "markdown",
   "metadata": {
    "id": "Cp7IpuJBFcq2"
   },
   "source": [
    "__[문제5]__\n",
    "\n",
    "price 변수에는 날짜와 종가 정보가 저장돼 있습니다.\n",
    "날짜 정보를 제외하고 가격 정보만을 출력해주세요\n",
    "\n",
    "```price = ['20180728', 100, 130, 140, 150, 160, 170]```\n",
    "\n",
    "<br>\n",
    "출력 예) [100, 130, 140, 150, 160, 170]"
   ]
  },
  {
   "cell_type": "code",
   "execution_count": 32,
   "metadata": {
    "id": "BpMb0bHPFdKF"
   },
   "outputs": [
    {
     "name": "stdout",
     "output_type": "stream",
     "text": [
      "[100, 130, 140, 150, 160, 170]\n"
     ]
    }
   ],
   "source": [
    "price = ['20180728', 100, 130, 140, 150, 160, 170]\n",
    "price.remove('20180728')\n",
    "print(price)"
   ]
  },
  {
   "cell_type": "markdown",
   "metadata": {},
   "source": [
    "---"
   ]
  },
  {
   "cell_type": "markdown",
   "metadata": {
    "id": "1DwclZivGe72"
   },
   "source": [
    "__[문제6]__\n",
    "\n",
    "<br>\n",
    "다음 딕셔너리를 사용하여 메로나 가격을 출력해주세요\n",
    "\n",
    "```ice = {'메로나': 1000,```<br>\n",
    "&emsp;&emsp;&emsp;&emsp;```'폴로포': 1200,```<br>\n",
    "&emsp;&emsp;&emsp;&emsp;```'빵빠레': 1800,```<br>\n",
    "&emsp;&emsp;&emsp;&emsp;```'죠스바': 1200,```<br>\n",
    "&emsp;&emsp;&emsp;&emsp;```'월드콘': 1500}```<br>\n",
    "\n",
    "<br>\n",
    "출력 예) 메로나 가격: 1000"
   ]
  },
  {
   "cell_type": "code",
   "execution_count": 34,
   "metadata": {
    "id": "jADTPFzOHcKk"
   },
   "outputs": [
    {
     "name": "stdout",
     "output_type": "stream",
     "text": [
      "메로나의 가격은 1000원 입니다.\n"
     ]
    }
   ],
   "source": [
    "ice = ['메로나', '폴로포', '빵빠레', '죠스바', '월드콘']\n",
    "\n",
    "merona_price = 1000\n",
    "\n",
    "print(f'{ice[0]}의 가격은 {merona_price}원 입니다.')\n",
    "\n"
   ]
  },
  {
   "cell_type": "markdown",
   "metadata": {},
   "source": [
    "---"
   ]
  },
  {
   "cell_type": "markdown",
   "metadata": {
    "id": "mBs2AaqcJAXN"
   },
   "source": [
    "__[문제6-1]__\n",
    "\n",
    "다음 딕셔너리에서 메로나의 가격을 1300으로 수정해주세요\n",
    "\n",
    "```ice = {'메로나': 1000,```<br>\n",
    "&emsp;&emsp;&emsp;&emsp;```'폴로포': 1200,```<br>\n",
    "&emsp;&emsp;&emsp;&emsp;```'빵빠레': 1800,```<br>\n",
    "&emsp;&emsp;&emsp;&emsp;```'죠스바': 1200,```<br>\n",
    "&emsp;&emsp;&emsp;&emsp;```'월드콘': 1500}```<br>"
   ]
  },
  {
   "cell_type": "code",
   "execution_count": null,
   "metadata": {
    "id": "C2RyUgoTJKsF"
   },
   "outputs": [
    {
     "name": "stdout",
     "output_type": "stream",
     "text": [
      "{'메로나': 1300, '폴로포': 1200, '빵빠레': 1800, '죠스바': 1200, '월드콘': 1500}\n"
     ]
    }
   ],
   "source": [
    "ice = {'메로나': 1000, '폴로포': 1200, '빵빠레':1800, '죠스바':1200, '월드콘':1500}\n",
    "ice['메로나'] = 1300\n",
    "print(ice)"
   ]
  },
  {
   "cell_type": "markdown",
   "metadata": {},
   "source": [
    "---"
   ]
  },
  {
   "cell_type": "markdown",
   "metadata": {
    "id": "_ZdcVEtTJKS1"
   },
   "source": [
    "__[문제7]__\n",
    "\n",
    "아래 순서대로 주어진 수강생 이름과 등급을 하나의 딕셔너리로 만드는 코드를 작성해주세요\n",
    "\n",
    "\n",
    "names : 나이썬, 김자바, 김씨, 박씨샵  \n",
    "grades :   B       B      A      C\n"
   ]
  },
  {
   "cell_type": "code",
   "execution_count": 41,
   "metadata": {
    "id": "7RyqlYwpJOp7"
   },
   "outputs": [
    {
     "name": "stdout",
     "output_type": "stream",
     "text": [
      "{'나이썬': 'B', '김자바': 'B', '김씨': 'A', '박씨샵': 'C'}\n"
     ]
    }
   ],
   "source": [
    "class_grd  = {'나이썬': 'B', '김자바':'B','김씨':'A', '박씨샵':'C' }\n",
    "print(class_grd)"
   ]
  },
  {
   "cell_type": "markdown",
   "metadata": {},
   "source": [
    "---"
   ]
  },
  {
   "cell_type": "markdown",
   "metadata": {
    "id": "yzi6f2-YKsk4"
   },
   "source": [
    "__[문제8]__\n",
    "\n",
    "아래 ice 딕셔너리에 데이터를 추가 후 출력해주세요\n",
    "\n",
    "ice = {\"메로나\": [300, 20],  \n",
    "              \"비비빅\": [400, 3],  \n",
    "              \"죠스바\": [250, 100]}  \n",
    "\n",
    "\n",
    "추가해야하는 데이터) 이름 : 보석바, 가격:650, 재고:10"
   ]
  },
  {
   "cell_type": "code",
   "execution_count": 62,
   "metadata": {},
   "outputs": [
    {
     "name": "stdout",
     "output_type": "stream",
     "text": [
      "보유중인 아이스크림의 상품명,가격,재고 순서입니다. {'메로나': [300, 20], '비비빅': [400, 3], '죠스바': [250, 100], '보석바': [650, 10]}\n"
     ]
    }
   ],
   "source": [
    "ice = {\"메로나\": [300, 20],  \n",
    "         \"비비빅\": [400, 3],  \n",
    "            \"죠스바\": [250, 100]}\n",
    "ice['보석바']=[650, 10]\n",
    "print(f'보유중인 아이스크림의 상품명,가격,재고 순서입니다. {ice}')\n"
   ]
  },
  {
   "cell_type": "markdown",
   "metadata": {},
   "source": [
    "---"
   ]
  },
  {
   "cell_type": "markdown",
   "metadata": {
    "id": "RQJC80PBLWGt"
   },
   "source": [
    "__[문제9]__\n",
    "\n",
    "아래 딕셔너리에서 key만 list 형태로 출력해주세요 \n",
    "\n",
    "ice = {'메로나': 1000, '폴로포': 1200, '빵빠레': 1800, '죠스바': 1200, '월드콘': 1500}\n"
   ]
  },
  {
   "cell_type": "code",
   "execution_count": 66,
   "metadata": {
    "id": "m5m-a09iLVbO"
   },
   "outputs": [
    {
     "name": "stdout",
     "output_type": "stream",
     "text": [
      "판매 품목은 ['메로나', '폴로포', '빵빠레', '죠스바', '월드콘']입니다.\n"
     ]
    }
   ],
   "source": [
    "ice = {'메로나': 1000, '폴로포': 1200, '빵빠레': 1800, '죠스바': 1200, '월드콘': 1500}\n",
    "ice_list = list(ice.keys())\n",
    "print(f'판매 품목은 {ice_list}입니다.')"
   ]
  }
 ],
 "metadata": {
  "colab": {
   "authorship_tag": "ABX9TyOA/CeX7CUdbTKFxV0fsocV",
   "provenance": []
  },
  "kernelspec": {
   "display_name": "Python 3",
   "name": "python3"
  },
  "language_info": {
   "codemirror_mode": {
    "name": "ipython",
    "version": 3
   },
   "file_extension": ".py",
   "mimetype": "text/x-python",
   "name": "python",
   "nbconvert_exporter": "python",
   "pygments_lexer": "ipython3",
   "version": "3.13.3"
  }
 },
 "nbformat": 4,
 "nbformat_minor": 0
}
